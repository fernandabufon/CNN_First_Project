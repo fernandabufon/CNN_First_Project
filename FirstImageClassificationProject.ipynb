{
  "cells": [
    {
      "cell_type": "markdown",
      "id": "19d10f9d-a8fc-489e-b40c-df248f8ae916",
      "metadata": {
        "id": "19d10f9d-a8fc-489e-b40c-df248f8ae916"
      },
      "source": [
        "# Image Classification"
      ]
    },
    {
      "cell_type": "markdown",
      "id": "efa90275-a87f-4ed9-9538-95e568414403",
      "metadata": {
        "id": "efa90275-a87f-4ed9-9538-95e568414403"
      },
      "source": [
        "**Note:** This code was developed based on a tutorial from Code Basics on YouTube ([watch tutorial](https://www.youtube.com/watch?v=7HPwo4wnJeA&list=PLeo1K3hjS3uu7CxAacxVndI4bE_o3BDtO&index=24&ab_channel=codebasics)). It was created for educational purposes. All comments and observations are my own, reflecting my learning process and understanding of the problem and its solution."
      ]
    },
    {
      "cell_type": "code",
      "execution_count": 3,
      "id": "b534e74a-0693-4b91-b4e2-eca3af920d03",
      "metadata": {
        "id": "b534e74a-0693-4b91-b4e2-eca3af920d03"
      },
      "outputs": [],
      "source": [
        "import tensorflow as tf\n",
        "from tensorflow.keras import datasets, layers, models # Keras is a high-level API used for building and training deep learning models\n",
        "import matplotlib.pyplot as plt\n",
        "import numpy as np"
      ]
    },
    {
      "cell_type": "code",
      "execution_count": 4,
      "id": "4a80e52f-e0a8-4ab5-9493-f3b1597445a9",
      "metadata": {
        "colab": {
          "base_uri": "https://localhost:8080/"
        },
        "id": "4a80e52f-e0a8-4ab5-9493-f3b1597445a9",
        "outputId": "0179c0bb-2672-4a9b-d7e8-64645417c07c"
      },
      "outputs": [
        {
          "output_type": "stream",
          "name": "stdout",
          "text": [
            "Downloading data from https://www.cs.toronto.edu/~kriz/cifar-10-python.tar.gz\n",
            "170498071/170498071 [==============================] - 3s 0us/step\n"
          ]
        }
      ],
      "source": [
        "(X_train, y_train), (X_test, y_test) = datasets.cifar10.load_data() # cifar10 is the name of the dataset"
      ]
    },
    {
      "cell_type": "code",
      "execution_count": 5,
      "id": "41ecedba-b197-4968-88ba-6716ac2ba243",
      "metadata": {
        "colab": {
          "base_uri": "https://localhost:8080/"
        },
        "id": "41ecedba-b197-4968-88ba-6716ac2ba243",
        "outputId": "d60cb3a9-cadf-4c73-965d-609130069fde"
      },
      "outputs": [
        {
          "output_type": "execute_result",
          "data": {
            "text/plain": [
              "(50000, 32, 32, 3)"
            ]
          },
          "metadata": {},
          "execution_count": 5
        }
      ],
      "source": [
        "X_train.shape # (samples, h, w, rgb channels)"
      ]
    },
    {
      "cell_type": "code",
      "execution_count": 6,
      "id": "1392bc38-7fe1-4460-bac4-11e81bb33d78",
      "metadata": {
        "colab": {
          "base_uri": "https://localhost:8080/",
          "height": 72
        },
        "id": "1392bc38-7fe1-4460-bac4-11e81bb33d78",
        "outputId": "1e8c800a-eb62-4ea2-ec6b-e0b41e836aa9"
      },
      "outputs": [
        {
          "output_type": "execute_result",
          "data": {
            "text/plain": [
              "array([[[ 59,  62,  63],\n",
              "        [ 43,  46,  45],\n",
              "        [ 50,  48,  43],\n",
              "        ...,\n",
              "        [158, 132, 108],\n",
              "        [152, 125, 102],\n",
              "        [148, 124, 103]],\n",
              "\n",
              "       [[ 16,  20,  20],\n",
              "        [  0,   0,   0],\n",
              "        [ 18,   8,   0],\n",
              "        ...,\n",
              "        [123,  88,  55],\n",
              "        [119,  83,  50],\n",
              "        [122,  87,  57]],\n",
              "\n",
              "       [[ 25,  24,  21],\n",
              "        [ 16,   7,   0],\n",
              "        [ 49,  27,   8],\n",
              "        ...,\n",
              "        [118,  84,  50],\n",
              "        [120,  84,  50],\n",
              "        [109,  73,  42]],\n",
              "\n",
              "       ...,\n",
              "\n",
              "       [[208, 170,  96],\n",
              "        [201, 153,  34],\n",
              "        [198, 161,  26],\n",
              "        ...,\n",
              "        [160, 133,  70],\n",
              "        [ 56,  31,   7],\n",
              "        [ 53,  34,  20]],\n",
              "\n",
              "       [[180, 139,  96],\n",
              "        [173, 123,  42],\n",
              "        [186, 144,  30],\n",
              "        ...,\n",
              "        [184, 148,  94],\n",
              "        [ 97,  62,  34],\n",
              "        [ 83,  53,  34]],\n",
              "\n",
              "       [[177, 144, 116],\n",
              "        [168, 129,  94],\n",
              "        [179, 142,  87],\n",
              "        ...,\n",
              "        [216, 184, 140],\n",
              "        [151, 118,  84],\n",
              "        [123,  92,  72]]], dtype=uint8)"
            ],
            "text/html": [
              "<style>\n",
              "      .ndarray_repr .ndarray_raw_data {\n",
              "        display: none;\n",
              "      }\n",
              "      .ndarray_repr.show_array .ndarray_raw_data {\n",
              "        display: block;\n",
              "      }\n",
              "      .ndarray_repr.show_array .ndarray_image_preview {\n",
              "        display: none;\n",
              "      }\n",
              "      </style>\n",
              "      <div id=\"id-a5f4d670-a166-48e6-be05-bbcac4d883e8\" class=\"ndarray_repr\"><pre>ndarray (32, 32, 3) <button style=\"padding: 0 2px;\">show data</button></pre><img src=\"data:image/png;base64,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\" class=\"ndarray_image_preview\" /><pre class=\"ndarray_raw_data\">array([[[ 59,  62,  63],\n",
              "        [ 43,  46,  45],\n",
              "        [ 50,  48,  43],\n",
              "        ...,\n",
              "        [158, 132, 108],\n",
              "        [152, 125, 102],\n",
              "        [148, 124, 103]],\n",
              "\n",
              "       [[ 16,  20,  20],\n",
              "        [  0,   0,   0],\n",
              "        [ 18,   8,   0],\n",
              "        ...,\n",
              "        [123,  88,  55],\n",
              "        [119,  83,  50],\n",
              "        [122,  87,  57]],\n",
              "\n",
              "       [[ 25,  24,  21],\n",
              "        [ 16,   7,   0],\n",
              "        [ 49,  27,   8],\n",
              "        ...,\n",
              "        [118,  84,  50],\n",
              "        [120,  84,  50],\n",
              "        [109,  73,  42]],\n",
              "\n",
              "       ...,\n",
              "\n",
              "       [[208, 170,  96],\n",
              "        [201, 153,  34],\n",
              "        [198, 161,  26],\n",
              "        ...,\n",
              "        [160, 133,  70],\n",
              "        [ 56,  31,   7],\n",
              "        [ 53,  34,  20]],\n",
              "\n",
              "       [[180, 139,  96],\n",
              "        [173, 123,  42],\n",
              "        [186, 144,  30],\n",
              "        ...,\n",
              "        [184, 148,  94],\n",
              "        [ 97,  62,  34],\n",
              "        [ 83,  53,  34]],\n",
              "\n",
              "       [[177, 144, 116],\n",
              "        [168, 129,  94],\n",
              "        [179, 142,  87],\n",
              "        ...,\n",
              "        [216, 184, 140],\n",
              "        [151, 118,  84],\n",
              "        [123,  92,  72]]], dtype=uint8)</pre></div><script>\n",
              "      (() => {\n",
              "      const titles = ['show data', 'hide data'];\n",
              "      let index = 0\n",
              "      document.querySelector('#id-a5f4d670-a166-48e6-be05-bbcac4d883e8 button').onclick = (e) => {\n",
              "        document.querySelector('#id-a5f4d670-a166-48e6-be05-bbcac4d883e8').classList.toggle('show_array');\n",
              "        index = (++index) % 2;\n",
              "        document.querySelector('#id-a5f4d670-a166-48e6-be05-bbcac4d883e8 button').textContent = titles[index];\n",
              "        e.preventDefault();\n",
              "        e.stopPropagation();\n",
              "      }\n",
              "      })();\n",
              "    </script>"
            ]
          },
          "metadata": {},
          "execution_count": 6
        }
      ],
      "source": [
        "X_train[0]"
      ]
    },
    {
      "cell_type": "markdown",
      "id": "192910fa-6004-4b5f-990d-6fc97fab8ff2",
      "metadata": {
        "id": "192910fa-6004-4b5f-990d-6fc97fab8ff2"
      },
      "source": [
        "Using \"X_train[i]\" we will receive an array that represents one image.\n",
        "\n",
        "**Why So Many Vectors?:** Each \"vector\" or set of three numbers is just showing the color of one pixel. An image in CIFAR-10 is made up of 32x32 pixels, so there are 1,024 pixels in total. Each pixel needs three numbers to describe its color, hence the many sets of three numbers.\n",
        "\n",
        "**Understanding the Shape:** When you access X_train[0], it shows you a single image, which is composed of 32 rows of 32 pixels, and each pixel has 3 values to define its color.\n",
        "\n",
        "***Here's a more visual way to think about it:***\n",
        "**Image:** One entire array from X_train[0].\n",
        "**Rows of Pixels:** Each sub-array of size 32 you see when you expand X_train[0].\n",
        "**Pixels:** Each smaller array of size 3 inside those sub-arrays.\n",
        "**Color Values:** The three numbers inside each of these smallest arrays.\n",
        "So, even though it looks complex, all we are seeing is a detailed, color-specific representation of just one 32x32 pixel image!"
      ]
    },
    {
      "cell_type": "markdown",
      "id": "7e0494fa-1b14-4c11-a320-b5af7e1ee901",
      "metadata": {
        "id": "7e0494fa-1b14-4c11-a320-b5af7e1ee901"
      },
      "source": [
        "*Beginning of the row*\n",
        "        [[ 59,  62,  63],\n",
        "        [ 43,  46,  45],\n",
        "        [ 50,  48,  43],\n",
        "        ...,\n",
        "        [158, 132, 108],\n",
        "        [152, 125, 102],\n",
        "        [148, 124, 103]],\n",
        "*End of the row*\n",
        "\n",
        "Each row has 32 pixels. Each pixel has 3 values (RGB)."
      ]
    },
    {
      "cell_type": "code",
      "execution_count": 7,
      "id": "20ac5039-26b1-44de-9d9b-0d557ca39db2",
      "metadata": {
        "colab": {
          "base_uri": "https://localhost:8080/",
          "height": 447
        },
        "id": "20ac5039-26b1-44de-9d9b-0d557ca39db2",
        "outputId": "7bc367b4-7ac6-4d74-d490-60c883ffd01d"
      },
      "outputs": [
        {
          "output_type": "execute_result",
          "data": {
            "text/plain": [
              "<matplotlib.image.AxesImage at 0x7fa2be659ba0>"
            ]
          },
          "metadata": {},
          "execution_count": 7
        },
        {
          "output_type": "display_data",
          "data": {
            "text/plain": [
              "<Figure size 640x480 with 1 Axes>"
            ],
            "image/png": "[encoded data removed]"
          },
          "metadata": {}
        }
      ],
      "source": [
        "plt.imshow(X_train[1]) # shows the image with plt"
      ]
    },
    {
      "cell_type": "markdown",
      "id": "0077045b-3b03-4ce9-8ae5-7bfcff6cf4d3",
      "metadata": {
        "id": "0077045b-3b03-4ce9-8ae5-7bfcff6cf4d3"
      },
      "source": [
        "Now, we are going to reshape the y_train to transform it in one list (without the reshape, it is a list of arrays."
      ]
    },
    {
      "cell_type": "code",
      "execution_count": 8,
      "id": "8f6d0396-d96f-4833-9294-f8b3423cd7c2",
      "metadata": {
        "colab": {
          "base_uri": "https://localhost:8080/"
        },
        "id": "8f6d0396-d96f-4833-9294-f8b3423cd7c2",
        "outputId": "1a29d6b4-8421-4b66-bd2e-7197c2345adf"
      },
      "outputs": [
        {
          "output_type": "execute_result",
          "data": {
            "text/plain": [
              "array([[6],\n",
              "       [9],\n",
              "       [9],\n",
              "       [4],\n",
              "       [1]], dtype=uint8)"
            ]
          },
          "metadata": {},
          "execution_count": 8
        }
      ],
      "source": [
        "y_train[:5]"
      ]
    },
    {
      "cell_type": "code",
      "execution_count": 9,
      "id": "90ec7e03-970b-41f0-b5bb-9318d00af0f8",
      "metadata": {
        "colab": {
          "base_uri": "https://localhost:8080/"
        },
        "id": "90ec7e03-970b-41f0-b5bb-9318d00af0f8",
        "outputId": "38997541-e70e-4403-c25c-fe1ec7d6448e"
      },
      "outputs": [
        {
          "output_type": "execute_result",
          "data": {
            "text/plain": [
              "array([6, 9, 9, ..., 9, 1, 1], dtype=uint8)"
            ]
          },
          "metadata": {},
          "execution_count": 9
        }
      ],
      "source": [
        "y_train = y_train.reshape(-1,) # I write -1 as the first parameter because I don't want to change the number of samples.\n",
        "y_train"
      ]
    },
    {
      "cell_type": "markdown",
      "id": "22e73160-a42b-4373-857a-b2deeff309e4",
      "metadata": {
        "id": "22e73160-a42b-4373-857a-b2deeff309e4"
      },
      "source": [
        "Now I have an array that gives me a number from 0 to 9 depending on the class of the image. But I don't want to print the numbers, I want to print the name of the label."
      ]
    },
    {
      "cell_type": "code",
      "execution_count": 10,
      "id": "832dee6e-dd1d-4f3f-9fca-f54574477fdc",
      "metadata": {
        "id": "832dee6e-dd1d-4f3f-9fca-f54574477fdc"
      },
      "outputs": [],
      "source": [
        "classes = [\"airplane\", \"automobile\", \"bird\", \"cat\", \"deer\", \"dog\", \"frog\", \"horse\", \"ship\", \"truck\"]"
      ]
    },
    {
      "cell_type": "code",
      "execution_count": 11,
      "id": "56d66387-7d67-4a9c-91ff-8cdb06b33af3",
      "metadata": {
        "id": "56d66387-7d67-4a9c-91ff-8cdb06b33af3"
      },
      "outputs": [],
      "source": [
        "def plot_img(X, y, index): # X, y is the X_train or X_test (same with the y) and index is the sample I want to print\n",
        "    plt.figure(figsize = (15,2))\n",
        "    plt.imshow(X[index])\n",
        "    plt.xlabel(classes[y[index]]) # the index of the class will be nthe number of the label"
      ]
    },
    {
      "cell_type": "code",
      "execution_count": 12,
      "id": "eb0a0db8-23c7-4ff3-97fa-2453cd82951f",
      "metadata": {
        "colab": {
          "base_uri": "https://localhost:8080/",
          "height": 237
        },
        "id": "eb0a0db8-23c7-4ff3-97fa-2453cd82951f",
        "outputId": "a34feb50-c8e0-4997-f27e-dab970b81763"
      },
      "outputs": [
        {
          "output_type": "display_data",
          "data": {
            "text/plain": [
              "<Figure size 1500x200 with 1 Axes>"
            ],
            "image/png": "[encoded data removed]"
          },
          "metadata": {}
        }
      ],
      "source": [
        "plot_img(X_train, y_train, 9)"
      ]
    },
    {
      "cell_type": "markdown",
      "id": "6fed61ab-a3e3-4833-904f-6fc8305885ee",
      "metadata": {
        "id": "6fed61ab-a3e3-4833-904f-6fc8305885ee"
      },
      "source": [
        "Now it's time to normalize the data! We need to divide the values of each pixel by 255, so we will have values from 0 to 1 (instead of 0 to 255)."
      ]
    },
    {
      "cell_type": "code",
      "execution_count": 13,
      "id": "038dd82d-5044-4754-952a-9596736d9245",
      "metadata": {
        "id": "038dd82d-5044-4754-952a-9596736d9245"
      },
      "outputs": [],
      "source": [
        "X_train = X_train/255\n",
        "X_test = X_test/255"
      ]
    },
    {
      "cell_type": "code",
      "execution_count": 14,
      "id": "c94c26a0-9e7f-4f38-8d56-ab6699f8b839",
      "metadata": {
        "colab": {
          "base_uri": "https://localhost:8080/"
        },
        "id": "c94c26a0-9e7f-4f38-8d56-ab6699f8b839",
        "outputId": "f8df2c62-9ba1-4685-bbb2-5fb778259100"
      },
      "outputs": [
        {
          "output_type": "stream",
          "name": "stdout",
          "text": [
            "Epoch 1/5\n",
            "1563/1563 [==============================] - 9s 5ms/step - loss: 1.8135 - accuracy: 0.3524\n",
            "Epoch 2/5\n",
            "1563/1563 [==============================] - 7s 4ms/step - loss: 1.6260 - accuracy: 0.4257\n",
            "Epoch 3/5\n",
            "1563/1563 [==============================] - 7s 5ms/step - loss: 1.5442 - accuracy: 0.4557\n",
            "Epoch 4/5\n",
            "1563/1563 [==============================] - 7s 5ms/step - loss: 1.4844 - accuracy: 0.4777\n",
            "Epoch 5/5\n",
            "1563/1563 [==============================] - 7s 4ms/step - loss: 1.4338 - accuracy: 0.4950\n"
          ]
        },
        {
          "output_type": "execute_result",
          "data": {
            "text/plain": [
              "<keras.src.callbacks.History at 0x7fa25aaba350>"
            ]
          },
          "metadata": {},
          "execution_count": 14
        }
      ],
      "source": [
        "ann = models.Sequential([\n",
        "    layers.Flatten(input_shape=(32,32,3)),\n",
        "    layers.Dense(3000, activation='relu'),\n",
        "    layers.Dense(1000, activation='relu'),\n",
        "    layers.Dense(10, activation='sigmoid') # I have numbers of 0 to 9\n",
        "])\n",
        "\n",
        "ann.compile(optimizer='SGD',\n",
        "            loss='sparse_categorical_crossentropy',\n",
        "            metrics=['accuracy']\n",
        "            )\n",
        "\n",
        "ann.fit(X_train, y_train, epochs=5)"
      ]
    },
    {
      "cell_type": "code",
      "execution_count": 15,
      "id": "76c73e70-2464-44e8-9ff1-4162d6a70dd9",
      "metadata": {
        "colab": {
          "base_uri": "https://localhost:8080/"
        },
        "id": "76c73e70-2464-44e8-9ff1-4162d6a70dd9",
        "outputId": "b580a7ae-24c4-40b0-833d-66d2098f9e9a"
      },
      "outputs": [
        {
          "output_type": "stream",
          "name": "stdout",
          "text": [
            "313/313 [==============================] - 1s 3ms/step - loss: 1.4949 - accuracy: 0.4749\n"
          ]
        },
        {
          "output_type": "execute_result",
          "data": {
            "text/plain": [
              "[1.4949493408203125, 0.4749000072479248]"
            ]
          },
          "metadata": {},
          "execution_count": 15
        }
      ],
      "source": [
        "ann.evaluate(X_test, y_test)"
      ]
    },
    {
      "cell_type": "markdown",
      "source": [
        "Now, lets use `classification_report` to see the metrics."
      ],
      "metadata": {
        "id": "9JPEDfh8j4Kq"
      },
      "id": "9JPEDfh8j4Kq"
    },
    {
      "cell_type": "code",
      "source": [
        "from sklearn.metrics import confusion_matrix, classification_report\n",
        "import numpy as np\n",
        "y_pred = ann.predict(X_test)\n",
        "y_pred_classes = [np.argmax(element) for element in y_pred] # Uses \"np.argmax\" to find the index of the highest score for each prediction. Element -> an array with the results.\n",
        "\n",
        "print(classification_report(y_test, y_pred_classes))"
      ],
      "metadata": {
        "colab": {
          "base_uri": "https://localhost:8080/"
        },
        "id": "5dDiNOkzSQD6",
        "outputId": "4081569a-bcc5-4031-f3d0-f2f02ac17fae"
      },
      "id": "5dDiNOkzSQD6",
      "execution_count": 16,
      "outputs": [
        {
          "output_type": "stream",
          "name": "stdout",
          "text": [
            "313/313 [==============================] - 1s 2ms/step\n",
            "              precision    recall  f1-score   support\n",
            "\n",
            "           0       0.34      0.79      0.47      1000\n",
            "           1       0.57      0.62      0.60      1000\n",
            "           2       0.42      0.31      0.36      1000\n",
            "           3       0.38      0.33      0.35      1000\n",
            "           4       0.44      0.40      0.42      1000\n",
            "           5       0.57      0.21      0.31      1000\n",
            "           6       0.56      0.47      0.51      1000\n",
            "           7       0.56      0.52      0.54      1000\n",
            "           8       0.64      0.49      0.56      1000\n",
            "           9       0.52      0.59      0.55      1000\n",
            "\n",
            "    accuracy                           0.47     10000\n",
            "   macro avg       0.50      0.47      0.47     10000\n",
            "weighted avg       0.50      0.47      0.47     10000\n",
            "\n"
          ]
        }
      ]
    },
    {
      "cell_type": "markdown",
      "source": [
        "As we see, the accuracy is very very low (0.45). Let's implement a cnn and see what changes!"
      ],
      "metadata": {
        "id": "Y91mfFjEaJaG"
      },
      "id": "Y91mfFjEaJaG"
    },
    {
      "cell_type": "code",
      "source": [
        "cnn = models.Sequential([\n",
        "    # convolution neural network\n",
        "    layers.Conv2D(filters=32, kernel_size=(3,3), activation='relu', input_shape=(32,32,3)), # Can detect 32 features\n",
        "    layers.MaxPooling2D(2,2), # Max, average...\n",
        "\n",
        "    layers.Conv2D(filters=64, kernel_size=(3,3), activation='relu'),\n",
        "    layers.MaxPooling2D(2,2),\n",
        "\n",
        "    # dense network\n",
        "    layers.Flatten(),\n",
        "    layers.Dense(64, activation='relu'), # I don't need so many neurons and so many layers now that I'm using cnn.\n",
        "    layers.Dense(10, activation='softmax') # Returns me a array of probabilities.\n",
        "])"
      ],
      "metadata": {
        "id": "rjgLBca4SsgO"
      },
      "id": "rjgLBca4SsgO",
      "execution_count": 17,
      "outputs": []
    },
    {
      "cell_type": "markdown",
      "source": [
        "Note: Softmax is a function used convert a set of numbers into probabilities, which are easier to handle in classification tasks. It does this by first taking the exponential of each value to ensure all numbers are positive and to exaggerate differences, and then normalizing these values so that their total equals one. This results in a vector where each element represents the probability of a corresponding category, making it particularly useful in scenarios where a model needs to determine the likelihood of multiple different outcomes."
      ],
      "metadata": {
        "id": "qiM-K0y8fRFk"
      },
      "id": "qiM-K0y8fRFk"
    },
    {
      "cell_type": "code",
      "source": [
        "cnn.compile(\n",
        "    optimizer = 'adam',\n",
        "    loss = 'sparse_categorical_crossentropy',\n",
        "    metrics = ['accuracy']\n",
        ")"
      ],
      "metadata": {
        "id": "LeHgkbyafu74"
      },
      "id": "LeHgkbyafu74",
      "execution_count": 18,
      "outputs": []
    },
    {
      "cell_type": "code",
      "source": [
        "cnn.fit(X_train, y_train, epochs=10)"
      ],
      "metadata": {
        "colab": {
          "base_uri": "https://localhost:8080/"
        },
        "id": "_A89iCubirQk",
        "outputId": "610d4cc1-b75e-4b0a-ffc7-50b211c8a591"
      },
      "id": "_A89iCubirQk",
      "execution_count": 19,
      "outputs": [
        {
          "output_type": "stream",
          "name": "stdout",
          "text": [
            "Epoch 1/10\n",
            "1563/1563 [==============================] - 9s 4ms/step - loss: 1.4659 - accuracy: 0.4751\n",
            "Epoch 2/10\n",
            "1563/1563 [==============================] - 5s 3ms/step - loss: 1.1132 - accuracy: 0.6122\n",
            "Epoch 3/10\n",
            "1563/1563 [==============================] - 6s 4ms/step - loss: 0.9838 - accuracy: 0.6571\n",
            "Epoch 4/10\n",
            "1563/1563 [==============================] - 6s 4ms/step - loss: 0.9062 - accuracy: 0.6842\n",
            "Epoch 5/10\n",
            "1563/1563 [==============================] - 6s 4ms/step - loss: 0.8445 - accuracy: 0.7098\n",
            "Epoch 6/10\n",
            "1563/1563 [==============================] - 6s 4ms/step - loss: 0.7951 - accuracy: 0.7260\n",
            "Epoch 7/10\n",
            "1563/1563 [==============================] - 6s 4ms/step - loss: 0.7459 - accuracy: 0.7413\n",
            "Epoch 8/10\n",
            "1563/1563 [==============================] - 5s 3ms/step - loss: 0.7094 - accuracy: 0.7550\n",
            "Epoch 9/10\n",
            "1563/1563 [==============================] - 6s 4ms/step - loss: 0.6758 - accuracy: 0.7677\n",
            "Epoch 10/10\n",
            "1563/1563 [==============================] - 5s 4ms/step - loss: 0.6392 - accuracy: 0.7779\n"
          ]
        },
        {
          "output_type": "execute_result",
          "data": {
            "text/plain": [
              "<keras.src.callbacks.History at 0x7fa1d80aa830>"
            ]
          },
          "metadata": {},
          "execution_count": 19
        }
      ]
    },
    {
      "cell_type": "markdown",
      "source": [
        "If you compare with ANN, you can se that CNN have a better accuracy and a smaller loss."
      ],
      "metadata": {
        "id": "Jytjrh9JjZ6_"
      },
      "id": "Jytjrh9JjZ6_"
    },
    {
      "cell_type": "code",
      "source": [
        "cnn.evaluate(X_test, y_test)"
      ],
      "metadata": {
        "colab": {
          "base_uri": "https://localhost:8080/"
        },
        "id": "Ut4cqs_9jnK0",
        "outputId": "ea3ed451-8f68-4171-fe61-ce1c24bad362"
      },
      "id": "Ut4cqs_9jnK0",
      "execution_count": 20,
      "outputs": [
        {
          "output_type": "stream",
          "name": "stdout",
          "text": [
            "313/313 [==============================] - 1s 2ms/step - loss: 0.8939 - accuracy: 0.6982\n"
          ]
        },
        {
          "output_type": "execute_result",
          "data": {
            "text/plain": [
              "[0.8939352631568909, 0.698199987411499]"
            ]
          },
          "metadata": {},
          "execution_count": 20
        }
      ]
    },
    {
      "cell_type": "code",
      "source": [
        "y_pred_c = cnn.predict(X_test)\n",
        "y_pred_classes_c = [np.argmax(element) for element in y_pred_c]\n",
        "\n",
        "print(classification_report(y_test, y_pred_classes_c))"
      ],
      "metadata": {
        "colab": {
          "base_uri": "https://localhost:8080/"
        },
        "id": "wQpGSOb_jsuh",
        "outputId": "452d5f3d-a779-4238-e294-8fbe026cdd79"
      },
      "id": "wQpGSOb_jsuh",
      "execution_count": 21,
      "outputs": [
        {
          "output_type": "stream",
          "name": "stdout",
          "text": [
            "313/313 [==============================] - 1s 2ms/step\n",
            "              precision    recall  f1-score   support\n",
            "\n",
            "           0       0.70      0.80      0.74      1000\n",
            "           1       0.76      0.88      0.82      1000\n",
            "           2       0.58      0.62      0.60      1000\n",
            "           3       0.49      0.51      0.50      1000\n",
            "           4       0.70      0.58      0.63      1000\n",
            "           5       0.68      0.52      0.59      1000\n",
            "           6       0.70      0.84      0.76      1000\n",
            "           7       0.75      0.74      0.75      1000\n",
            "           8       0.81      0.79      0.80      1000\n",
            "           9       0.85      0.71      0.77      1000\n",
            "\n",
            "    accuracy                           0.70     10000\n",
            "   macro avg       0.70      0.70      0.70     10000\n",
            "weighted avg       0.70      0.70      0.70     10000\n",
            "\n"
          ]
        }
      ]
    },
    {
      "cell_type": "markdown",
      "source": [
        "Precision: It is the ratio of correct predictions for a class among all predictions made for that class.\n",
        "\n",
        "Recall: Represents the proportion of actual cases of a class that were correctly identified by the model.\n",
        "\n",
        "F1-Score: It is a harmonic mean between precision and recall, providing a single number that balances these two metrics.\n",
        "\n",
        "Support: Refers to the number of occurrences of each actual class in the dataset."
      ],
      "metadata": {
        "id": "LyTTV0Ibn2KW"
      },
      "id": "LyTTV0Ibn2KW"
    },
    {
      "cell_type": "markdown",
      "source": [
        "# Exercise:"
      ],
      "metadata": {
        "id": "EnLpLc8JoirX"
      },
      "id": "EnLpLc8JoirX"
    },
    {
      "cell_type": "markdown",
      "source": [
        "Use CNN to do handwritten digits classification using MNIST dataset."
      ],
      "metadata": {
        "id": "XVobQCZdonpR"
      },
      "id": "XVobQCZdonpR"
    },
    {
      "cell_type": "code",
      "source": [
        "import tensorflow as tf\n",
        "from tensorflow import keras\n",
        "import matplotlib.pyplot as plt\n",
        "%matplotlib inline\n",
        "import numpy as np"
      ],
      "metadata": {
        "id": "xHECqg8iokRE"
      },
      "id": "xHECqg8iokRE",
      "execution_count": 22,
      "outputs": []
    },
    {
      "cell_type": "markdown",
      "source": [
        "Getting the dataset from `keras.datasets`"
      ],
      "metadata": {
        "id": "5ZwiaQZ2o6oQ"
      },
      "id": "5ZwiaQZ2o6oQ"
    },
    {
      "cell_type": "code",
      "source": [
        "(X_train, y_train) , (X_test, y_test) = keras.datasets.mnist.load_data()"
      ],
      "metadata": {
        "id": "WqAhNZ9ApBTK"
      },
      "id": "WqAhNZ9ApBTK",
      "execution_count": 40,
      "outputs": []
    },
    {
      "cell_type": "code",
      "source": [
        "y_train # notice that in the image datasets, the \"y\" was an array of arrays. Now, it is only an array."
      ],
      "metadata": {
        "colab": {
          "base_uri": "https://localhost:8080/"
        },
        "id": "is_kAA8fpDce",
        "outputId": "3cf883dd-47bc-4885-ab15-9011c03101bb"
      },
      "id": "is_kAA8fpDce",
      "execution_count": 41,
      "outputs": [
        {
          "output_type": "execute_result",
          "data": {
            "text/plain": [
              "array([5, 0, 4, ..., 5, 6, 8], dtype=uint8)"
            ]
          },
          "metadata": {},
          "execution_count": 41
        }
      ]
    },
    {
      "cell_type": "code",
      "source": [
        "X_train[0].shape # We have 28x28 pixels in each image."
      ],
      "metadata": {
        "colab": {
          "base_uri": "https://localhost:8080/"
        },
        "id": "di0HOFtQpIGL",
        "outputId": "83e930ae-d492-46e8-ae14-055ca9b564c4"
      },
      "id": "di0HOFtQpIGL",
      "execution_count": 42,
      "outputs": [
        {
          "output_type": "execute_result",
          "data": {
            "text/plain": [
              "(28, 28)"
            ]
          },
          "metadata": {},
          "execution_count": 42
        }
      ]
    },
    {
      "cell_type": "code",
      "source": [
        "plt.matshow(X_train[0])\n"
      ],
      "metadata": {
        "colab": {
          "base_uri": "https://localhost:8080/",
          "height": 454
        },
        "id": "tq1FwI1ipaWZ",
        "outputId": "f696f6a2-5710-4823-b596-54e68beef38e"
      },
      "id": "tq1FwI1ipaWZ",
      "execution_count": 26,
      "outputs": [
        {
          "output_type": "execute_result",
          "data": {
            "text/plain": [
              "<matplotlib.image.AxesImage at 0x7fa1d96660e0>"
            ]
          },
          "metadata": {},
          "execution_count": 26
        },
        {
          "output_type": "display_data",
          "data": {
            "text/plain": [
              "<Figure size 480x480 with 1 Axes>"
            ],
            "image/png": "[encoded data removed]"
          },
          "metadata": {}
        }
      ]
    },
    {
      "cell_type": "markdown",
      "source": [
        "Now let's normalize the data."
      ],
      "metadata": {
        "id": "xTnwKD91pm1J"
      },
      "id": "xTnwKD91pm1J"
    },
    {
      "cell_type": "code",
      "source": [
        "X_train = X_train / 255\n",
        "X_test = X_test / 255"
      ],
      "metadata": {
        "id": "7cam-XpmpkOC"
      },
      "id": "7cam-XpmpkOC",
      "execution_count": 43,
      "outputs": []
    },
    {
      "cell_type": "markdown",
      "source": [
        "Let's build the model without using cnn."
      ],
      "metadata": {
        "id": "xWalAi9DqApJ"
      },
      "id": "xWalAi9DqApJ"
    },
    {
      "cell_type": "code",
      "source": [
        "model = keras.Sequential([\n",
        "    keras.layers.Flatten(input_shape=(28, 28)), # This transforms the 2D 28x28 image into a 1D array of 784 elements\n",
        "    keras.layers.Dense(100, activation='relu'),\n",
        "    keras.layers.Dense(10, activation='sigmoid')\n",
        "])\n",
        "\n",
        "model.compile(optimizer='adam',\n",
        "              loss='sparse_categorical_crossentropy',\n",
        "              metrics=['accuracy'])\n",
        "\n",
        "model.fit(X_train, y_train, epochs=10)"
      ],
      "metadata": {
        "colab": {
          "base_uri": "https://localhost:8080/"
        },
        "id": "gl3baD4hqAZ-",
        "outputId": "77279231-26a0-4b49-cd42-1121deea0e49"
      },
      "id": "gl3baD4hqAZ-",
      "execution_count": 28,
      "outputs": [
        {
          "output_type": "stream",
          "name": "stdout",
          "text": [
            "Epoch 1/10\n",
            "1875/1875 [==============================] - 6s 2ms/step - loss: 0.2787 - accuracy: 0.9206\n",
            "Epoch 2/10\n",
            "1875/1875 [==============================] - 4s 2ms/step - loss: 0.1253 - accuracy: 0.9632\n",
            "Epoch 3/10\n",
            "1875/1875 [==============================] - 5s 3ms/step - loss: 0.0866 - accuracy: 0.9742\n",
            "Epoch 4/10\n",
            "1875/1875 [==============================] - 4s 2ms/step - loss: 0.0654 - accuracy: 0.9808\n",
            "Epoch 5/10\n",
            "1875/1875 [==============================] - 4s 2ms/step - loss: 0.0516 - accuracy: 0.9843\n",
            "Epoch 6/10\n",
            "1875/1875 [==============================] - 5s 3ms/step - loss: 0.0407 - accuracy: 0.9874\n",
            "Epoch 7/10\n",
            "1875/1875 [==============================] - 4s 2ms/step - loss: 0.0336 - accuracy: 0.9894\n",
            "Epoch 8/10\n",
            "1875/1875 [==============================] - 5s 3ms/step - loss: 0.0276 - accuracy: 0.9918\n",
            "Epoch 9/10\n",
            "1875/1875 [==============================] - 4s 2ms/step - loss: 0.0235 - accuracy: 0.9927\n",
            "Epoch 10/10\n",
            "1875/1875 [==============================] - 4s 2ms/step - loss: 0.0198 - accuracy: 0.9937\n"
          ]
        },
        {
          "output_type": "execute_result",
          "data": {
            "text/plain": [
              "<keras.src.callbacks.History at 0x7fa1d95458d0>"
            ]
          },
          "metadata": {},
          "execution_count": 28
        }
      ]
    },
    {
      "cell_type": "code",
      "source": [
        "model.evaluate(X_test,y_test)"
      ],
      "metadata": {
        "colab": {
          "base_uri": "https://localhost:8080/"
        },
        "id": "4k1uZ77MprIY",
        "outputId": "41d9acb1-cf67-4595-b76a-338bd835a6c1"
      },
      "id": "4k1uZ77MprIY",
      "execution_count": 29,
      "outputs": [
        {
          "output_type": "stream",
          "name": "stdout",
          "text": [
            "313/313 [==============================] - 1s 2ms/step - loss: 0.0772 - accuracy: 0.9774\n"
          ]
        },
        {
          "output_type": "execute_result",
          "data": {
            "text/plain": [
              "[0.07718881964683533, 0.977400004863739]"
            ]
          },
          "metadata": {},
          "execution_count": 29
        }
      ]
    },
    {
      "cell_type": "markdown",
      "source": [
        "Now, let's aply some cnn layers in this model:"
      ],
      "metadata": {
        "id": "jPH6GrMVrM8y"
      },
      "id": "jPH6GrMVrM8y"
    },
    {
      "cell_type": "code",
      "source": [
        "y_train.shape"
      ],
      "metadata": {
        "colab": {
          "base_uri": "https://localhost:8080/"
        },
        "id": "aj9Duz9i9wJp",
        "outputId": "b39d9f5f-3290-41f7-f39d-1a46cd9eb9e9"
      },
      "id": "aj9Duz9i9wJp",
      "execution_count": 45,
      "outputs": [
        {
          "output_type": "execute_result",
          "data": {
            "text/plain": [
              "(60000,)"
            ]
          },
          "metadata": {},
          "execution_count": 45
        }
      ]
    },
    {
      "cell_type": "code",
      "source": [
        "model = keras.Sequential([\n",
        "    keras.layers.Conv2D(filters=56, kernel_size=(4,4), activation='relu', input_shape=(28,28,1)),\n",
        "    layers.MaxPooling2D(2,2),\n",
        "    keras.layers.Conv2D(filters=16, kernel_size=(4,4), activation='relu'),\n",
        "    layers.MaxPooling2D(2,2),\n",
        "\n",
        "    keras.layers.Flatten(), # This transforms the 2D 28x28 image into a 1D array of 784 elements\n",
        "    keras.layers.Dense(100, activation='relu'),\n",
        "    keras.layers.Dense(10, activation='sigmoid')\n",
        "])\n",
        "\n",
        "model.compile(optimizer='adam',\n",
        "              loss='sparse_categorical_crossentropy',\n",
        "              metrics=['accuracy'])\n",
        "\n",
        "model.fit(X_train, y_train, epochs=10)"
      ],
      "metadata": {
        "colab": {
          "base_uri": "https://localhost:8080/"
        },
        "id": "eQdZ67Q0rJ33",
        "outputId": "3a801419-e249-4dde-9559-6333f19c6f3a"
      },
      "id": "eQdZ67Q0rJ33",
      "execution_count": 52,
      "outputs": [
        {
          "output_type": "stream",
          "name": "stdout",
          "text": [
            "Epoch 1/10\n",
            "1875/1875 [==============================] - 11s 4ms/step - loss: 0.1613 - accuracy: 0.9516\n",
            "Epoch 2/10\n",
            "1875/1875 [==============================] - 6s 3ms/step - loss: 0.0560 - accuracy: 0.9827\n",
            "Epoch 3/10\n",
            "1875/1875 [==============================] - 6s 3ms/step - loss: 0.0389 - accuracy: 0.9881\n",
            "Epoch 4/10\n",
            "1875/1875 [==============================] - 6s 3ms/step - loss: 0.0304 - accuracy: 0.9904\n",
            "Epoch 5/10\n",
            "1875/1875 [==============================] - 7s 4ms/step - loss: 0.0241 - accuracy: 0.9925\n",
            "Epoch 6/10\n",
            "1875/1875 [==============================] - 6s 3ms/step - loss: 0.0193 - accuracy: 0.9937\n",
            "Epoch 7/10\n",
            "1875/1875 [==============================] - 6s 3ms/step - loss: 0.0171 - accuracy: 0.9944\n",
            "Epoch 8/10\n",
            "1875/1875 [==============================] - 6s 3ms/step - loss: 0.0136 - accuracy: 0.9955\n",
            "Epoch 9/10\n",
            "1875/1875 [==============================] - 7s 4ms/step - loss: 0.0122 - accuracy: 0.9962\n",
            "Epoch 10/10\n",
            "1875/1875 [==============================] - 6s 3ms/step - loss: 0.0101 - accuracy: 0.9968\n"
          ]
        },
        {
          "output_type": "execute_result",
          "data": {
            "text/plain": [
              "<keras.src.callbacks.History at 0x7fa27b25b520>"
            ]
          },
          "metadata": {},
          "execution_count": 52
        }
      ]
    },
    {
      "cell_type": "code",
      "source": [
        "model.evaluate(X_test,y_test)"
      ],
      "metadata": {
        "colab": {
          "base_uri": "https://localhost:8080/"
        },
        "id": "fuj4aAWk7_3J",
        "outputId": "e0e0609e-d5cb-47cd-8708-e117cd31b798"
      },
      "id": "fuj4aAWk7_3J",
      "execution_count": 53,
      "outputs": [
        {
          "output_type": "stream",
          "name": "stdout",
          "text": [
            "313/313 [==============================] - 2s 5ms/step - loss: 0.0397 - accuracy: 0.9902\n"
          ]
        },
        {
          "output_type": "execute_result",
          "data": {
            "text/plain": [
              "[0.03971210867166519, 0.9901999831199646]"
            ]
          },
          "metadata": {},
          "execution_count": 53
        }
      ]
    },
    {
      "cell_type": "code",
      "source": [
        "y_pred = model.predict(X_test)\n",
        "y_pred = [np.argmax(element) for element in y_pred]\n",
        "\n",
        "print(classification_report(y_test, y_pred))"
      ],
      "metadata": {
        "colab": {
          "base_uri": "https://localhost:8080/"
        },
        "id": "SAOuMqcW_LQW",
        "outputId": "e2799575-3881-4d1e-b79e-e3f8b7019332"
      },
      "id": "SAOuMqcW_LQW",
      "execution_count": 54,
      "outputs": [
        {
          "output_type": "stream",
          "name": "stdout",
          "text": [
            "313/313 [==============================] - 1s 2ms/step\n",
            "              precision    recall  f1-score   support\n",
            "\n",
            "           0       0.99      1.00      0.99       980\n",
            "           1       0.99      1.00      1.00      1135\n",
            "           2       0.98      0.99      0.99      1032\n",
            "           3       0.98      1.00      0.99      1010\n",
            "           4       0.99      0.99      0.99       982\n",
            "           5       0.98      0.99      0.98       892\n",
            "           6       1.00      0.97      0.99       958\n",
            "           7       0.99      0.98      0.99      1028\n",
            "           8       0.99      0.99      0.99       974\n",
            "           9       0.99      0.98      0.99      1009\n",
            "\n",
            "    accuracy                           0.99     10000\n",
            "   macro avg       0.99      0.99      0.99     10000\n",
            "weighted avg       0.99      0.99      0.99     10000\n",
            "\n"
          ]
        }
      ]
    },
    {
      "cell_type": "code",
      "source": [],
      "metadata": {
        "id": "NcLFZQfg_W2c"
      },
      "id": "NcLFZQfg_W2c",
      "execution_count": null,
      "outputs": []
    }
  ],
  "metadata": {
    "kernelspec": {
      "display_name": "Python 3",
      "name": "python3"
    },
    "language_info": {
      "codemirror_mode": {
        "name": "ipython",
        "version": 3
      },
      "file_extension": ".py",
      "mimetype": "text/x-python",
      "name": "python",
      "nbconvert_exporter": "python",
      "pygments_lexer": "ipython3",
      "version": "3.11.1"
    },
    "colab": {
      "provenance": [],
      "gpuType": "T4"
    },
    "accelerator": "GPU"
  },
  "nbformat": 4,
  "nbformat_minor": 5
}